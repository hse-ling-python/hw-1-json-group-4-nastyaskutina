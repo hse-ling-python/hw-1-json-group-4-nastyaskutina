{
 "cells": [
  {
   "cell_type": "markdown",
   "metadata": {},
   "source": [
    "# Домашнее задание 1"
   ]
  },
  {
   "cell_type": "markdown",
   "metadata": {},
   "source": [
    "##### Настя Скутина (184)"
   ]
  },
  {
   "cell_type": "markdown",
   "metadata": {},
   "source": [
    "Сначала читаем файл:"
   ]
  },
  {
   "cell_type": "code",
   "execution_count": 175,
   "metadata": {},
   "outputs": [],
   "source": [
    "import json\n",
    "\n",
    "twitter = []\n",
    "for line in open('hw_3_twitter.json'):\n",
    "    twitter.append(json.loads(line))"
   ]
  },
  {
   "cell_type": "markdown",
   "metadata": {},
   "source": [
    "**Вопрос 1.** Сколько твитов в наборе?\n",
    "\n",
    "Каждый элемент списка - 1 твит, значит нужно найти длину списка:"
   ]
  },
  {
   "cell_type": "code",
   "execution_count": 176,
   "metadata": {},
   "outputs": [
    {
     "name": "stdout",
     "output_type": "stream",
     "text": [
      "В наборе 2556 твитов.\n"
     ]
    }
   ],
   "source": [
    "print('В наборе', len(twitter), 'твитов.')"
   ]
  },
  {
   "cell_type": "markdown",
   "metadata": {},
   "source": [
    "**Вопрос 2.** Какой процент твитов составляют удаленные записи?\n",
    "\n",
    "Составляем список удаленных твитов, находим его длину и делим на длину списка twitter:"
   ]
  },
  {
   "cell_type": "code",
   "execution_count": 177,
   "metadata": {},
   "outputs": [
    {
     "name": "stdout",
     "output_type": "stream",
     "text": [
      "Удаленные записи составляют 14% от всего набора.\n"
     ]
    }
   ],
   "source": [
    "deleted = []\n",
    "for tweet in twitter:\n",
    "    if 'delete' in tweet:\n",
    "        deleted.append(tweet)\n",
    "\n",
    "percent = str(int(len(deleted) / len(twitter) * 100))\n",
    "print('Удаленные записи составляют', percent+'%', 'от всего набора.')"
   ]
  },
  {
   "cell_type": "markdown",
   "metadata": {},
   "source": [
    "**Вопрос 3.** Какие самые популярные языки твитов?\n",
    "\n",
    "Сначала нужно найти существующие (неудаленные) твиты.\n",
    "Затем находим язык каждого твита, после чего применяем Counter и получаем ранжированный по количеству языков список"
   ]
  },
  {
   "cell_type": "code",
   "execution_count": 178,
   "metadata": {},
   "outputs": [
    {
     "name": "stdout",
     "output_type": "stream",
     "text": [
      "Топ-10 самых популярных языков:\n",
      "\n",
      "1.  en\n",
      "2.  ja\n",
      "3.  es\n",
      "4.  ko\n",
      "5.  th\n",
      "6.  ar\n",
      "7.  und\n",
      "8.  in\n",
      "9.  pt\n",
      "10.  fr\n"
     ]
    }
   ],
   "source": [
    "from collections import Counter\n",
    "\n",
    "tweets = []\n",
    "for tweet in twitter:\n",
    "    if 'delete' not in tweet:\n",
    "        tweets.append(tweet)\n",
    "\n",
    "languages = []\n",
    "for tweet in tweets:\n",
    "    languages.append(tweet['lang'])\n",
    "\n",
    "lang = Counter(languages)\n",
    "place = 0\n",
    "print('Топ-10 самых популярных языков:\\n')\n",
    "for elem in lang.most_common(10):\n",
    "    place += 1\n",
    "    print(str(place)+'. ', elem[0])"
   ]
  },
  {
   "cell_type": "markdown",
   "metadata": {},
   "source": [
    "**Вопрос 4.** Есть ли твиты от одного и того же пользователя? Если да, то сколько таких пользователей?\n",
    "\n",
    "Создаем два списка: для id всех пользователей и только для повторяющихся. Проходим по каждому твиту и если его автора еще нет в списке всех пользователей, то добавляем его id туда, а если есть, то уже в список повторяющихся (так как он встречается уже не в первый раз). В конце просто выводим длину этого списка."
   ]
  },
  {
   "cell_type": "code",
   "execution_count": 179,
   "metadata": {},
   "outputs": [
    {
     "name": "stdout",
     "output_type": "stream",
     "text": [
      "В наборе 25 повторяющихся пользователей.\n"
     ]
    }
   ],
   "source": [
    "users = []\n",
    "repeating_users = []\n",
    "for tweet in tweets:\n",
    "    if tweet['user']['id'] in users:\n",
    "        repeating_users.append(tweet['user']['id'])\n",
    "    else:\n",
    "        users.append(tweet['user']['id'])\n",
    "\n",
    "print('В наборе', len(repeating_users), 'повторяющихся пользователей.')"
   ]
  },
  {
   "cell_type": "markdown",
   "metadata": {},
   "source": [
    "**Вопрос 5.** Топ-20 хэштегов\n",
    "\n",
    "Массив с хэштегами находится в массиве entities. Поэтому нужно просто записать в список все хэштеги, а потом применить к нему Counter, чтобы получить ранжированный список."
   ]
  },
  {
   "cell_type": "code",
   "execution_count": 181,
   "metadata": {},
   "outputs": [
    {
     "name": "stdout",
     "output_type": "stream",
     "text": [
      "Топ-20 Хэштегов:\n",
      "\n",
      "BTS                                      \t 17 \n",
      "방탄소년단                                    \t 13 \n",
      "AMAs                                     \t 11 \n",
      "人気投票ガチャ                                  \t 8  \n",
      "태형                                       \t 7  \n",
      "뷔                                        \t 6  \n",
      "BTSinChicago                             \t 5  \n",
      "BTSLoveYourselfTour                      \t 5  \n",
      "오늘의방탄                                    \t 5  \n",
      "PledgeForSwachhBharat                    \t 5  \n",
      "MPN                                      \t 5  \n",
      "PCAs                                     \t 4  \n",
      "V                                        \t 4  \n",
      "시카고1회차공연                                 \t 4  \n",
      "เป๊กผลิตโชค                              \t 4  \n",
      "JIMIN                                    \t 4  \n",
      "running                                  \t 3  \n",
      "NCT                                      \t 3  \n",
      "지민                                       \t 3  \n",
      "WajahmuPlastik                           \t 3  \n"
     ]
    }
   ],
   "source": [
    "hashtags = []\n",
    "for tweet in tweets:\n",
    "    for hashtag in tweet['entities']['hashtags']:\n",
    "        hashtags.append(hashtag['text'])\n",
    "\n",
    "print('Топ-20 Хэштегов:\\n')\n",
    "place = 0\n",
    "for tag in Counter(hashtags).most_common(20):\n",
    "    print('{0:<40} \\t {1:<3}'.format(tag[0], tag[1]))"
   ]
  },
  {
   "cell_type": "markdown",
   "metadata": {},
   "source": [
    "**Вопрос 6.** Предобработать тексты оригинальных твитов (не ретвитов) на английском языке (убрать пунктуацию, привести к нижнему регистру) и составить частотный словарь.\n",
    "\n",
    "Для этого мы складываем все тексты, удовлетворяющие требованиям ('lang' = 'en', полей 'retweeted_status' и 'quoted_status' нет) в отдельный список, после чего с помощью регулярных выражений очищаем текст от ссылок (ссылки на изображения очень часто встречаются и могут повлиять на ответ) и создаем список слов, очищенных от пробелов и знаков препинания. Потом проходим по списку с помощью Counter и сортируем по частоте."
   ]
  },
  {
   "cell_type": "code",
   "execution_count": 187,
   "metadata": {},
   "outputs": [
    {
     "name": "stdout",
     "output_type": "stream",
     "text": [
      "Частотный словарь (первые 20 слов)\n",
      "\n",
      "the\t106\n",
      "i\t80\n",
      "to\t78\n",
      "a\t69\n",
      "and\t58\n",
      "it\t51\n",
      "you\t50\n",
      "is\t41\n",
      "for\t40\n",
      "of\t40\n",
      "that\t37\n",
      "s\t37\n",
      "t\t33\n",
      "in\t32\n",
      "me\t26\n",
      "on\t25\n",
      "my\t25\n",
      "be\t22\n",
      "are\t20\n",
      "this\t19\n"
     ]
    }
   ],
   "source": [
    "import re\n",
    "\n",
    "en_original_texts = []\n",
    "for tweet in tweets:\n",
    "    if tweet['lang'] == 'en':\n",
    "        if 'retweeted_status' not in tweet and 'quoted_status' not in tweet:\n",
    "            en_original_texts.append(tweet['text'])\n",
    "\n",
    "en_words = []\n",
    "for text in en_original_texts:\n",
    "    text = text.lower()\n",
    "    new_text = re.sub('https://t.co/.*?$', '', text)\n",
    "    words = re.findall('[\\\\d\\\\w]+', new_text)\n",
    "    for word in words:\n",
    "        en_words.append(word)\n",
    "\n",
    "print('Частотный словарь (первые 20 слов)\\n')\n",
    "for word in Counter(en_words).most_common(20):\n",
    "    print(word[0], word[1], sep='\\t')"
   ]
  },
  {
   "cell_type": "markdown",
   "metadata": {},
   "source": [
    "**Вопрос 7.** Найти количество подписчиков (фолловеров) у авторов твитов и вывести топ-10\n",
    "\n",
    "Составляем словарь, в котором ключ - имя пользователя, а значение - его количество подписчиков. Применяем к нему Counter и выводим с помощью format() красивую таблицу."
   ]
  },
  {
   "cell_type": "code",
   "execution_count": 188,
   "metadata": {},
   "outputs": [
    {
     "name": "stdout",
     "output_type": "stream",
     "text": [
      "Топ-10 популярных авторов\n",
      "\n",
      "Filosofía♕                \t 2521403 \n",
      "FITNESS Magazine          \t 1491309 \n",
      "malaysiakini.com          \t 1206759 \n",
      "NYT Science               \t 1137374 \n",
      "Gramática                 \t 625463  \n",
      "TGRT Haber                \t 392472  \n",
      "The Sun Football ⚽        \t 383698  \n",
      "Melbourne, Australia      \t 374222  \n",
      "Roznama Express           \t 318189  \n",
      "💞 ცųཞɠɛཞცơơɠıɛ 💞          \t 311319  \n"
     ]
    }
   ],
   "source": [
    "user_followers = {}\n",
    "for tweet in tweets:\n",
    "    user_followers[tweet['user']['name']] = tweet['user']['followers_count']\n",
    "\n",
    "print('Топ-10 популярных авторов\\n')\n",
    "for item in Counter(user_followers).most_common(10):\n",
    "    print('{0:<25} \\t {1:<8}'.format(item[0], item[1]))"
   ]
  }
 ],
 "metadata": {
  "kernelspec": {
   "display_name": "Python 3",
   "language": "python",
   "name": "python3"
  },
  "language_info": {
   "codemirror_mode": {
    "name": "ipython",
    "version": 3
   },
   "file_extension": ".py",
   "mimetype": "text/x-python",
   "name": "python",
   "nbconvert_exporter": "python",
   "pygments_lexer": "ipython3",
   "version": "3.7.4"
  }
 },
 "nbformat": 4,
 "nbformat_minor": 2
}
